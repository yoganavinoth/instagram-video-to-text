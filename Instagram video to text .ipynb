{
 "cells": [
  {
   "cell_type": "code",
   "execution_count": 2,
   "metadata": {},
   "outputs": [
    {
     "name": "stdout",
     "output_type": "stream",
     "text": [
      "D：﹨Users﹨User﹨Documents﹨instagram\\2024-04-20_20-15-46_UTC.jpg exists [Comment “CTA” for the doc…] unchanged D：﹨Users﹨User﹨Documents﹨instagram\\2024-04-20_20-15-46_UTC.mp4 exists json \n",
      "MoviePy - Writing audio in D:\\Users\\User\\Documents\\instagram/2024-04-20_20-15-46_UTC.wav\n"
     ]
    },
    {
     "name": "stderr",
     "output_type": "stream",
     "text": [
      "                                                                                                                       \r"
     ]
    },
    {
     "name": "stdout",
     "output_type": "stream",
     "text": [
      "MoviePy - Done.\n",
      "result2:\n",
      "{   'alternative': [   {   'transcript': 'mrbeast on tik talk new in the '\n",
      "                                         'forest each week because'},\n",
      "                       {   'transcript': 'Nepal mrbeast on Tiktok for each '\n",
      "                                         'week because'},\n",
      "                       {   'transcript': 'mrbeast on Tiktok for each week '\n",
      "                                         'because'},\n",
      "                       {   'transcript': 'Nepal mrbeast on Tiktok for each '\n",
      "                                         'week because if you'},\n",
      "                       {   'transcript': 'mrbeast on Tiktok for each week '\n",
      "                                         'because if you'}],\n",
      "    'final': True}\n",
      "mrbeast on tik talk new in the forest each week because\n"
     ]
    }
   ],
   "source": [
    "import instaloader\n",
    "from moviepy.editor import VideoFileClip\n",
    "import speech_recognition as sr\n",
    "\n",
    "def download_instagram_video(url, download_path):\n",
    "    L = instaloader.Instaloader()\n",
    "    post = instaloader.Post.from_shortcode(L.context, url.split('/')[-2])\n",
    "    L.download_post(post, download_path)\n",
    "\n",
    "def extract_audio(video_path, audio_path):\n",
    "    video = VideoFileClip(video_path)\n",
    "    video.audio.write_audiofile(audio_path)\n",
    "\n",
    "def audio_to_text(audio_path):\n",
    "    recognizer = sr.Recognizer()\n",
    "    audio_file = sr.AudioFile(audio_path)\n",
    "    with audio_file as source:\n",
    "        audio = recognizer.record(source)\n",
    "    try:\n",
    "        text = recognizer.recognize_google(audio)\n",
    "        return text\n",
    "    except sr.UnknownValueError:\n",
    "        return \"Google Speech Recognition could not understand audio\"\n",
    "    except sr.RequestError as e:\n",
    "        return f\"Could not request results from Google Speech Recognition service; {e}\"\n",
    "\n",
    "# Example usage\n",
    "instagram_url = \"https://www.instagram.com/reel/C5_wpqASpXA/\"\n",
    "download_path = \"D:\\\\Users\\\\User\\\\Documents\\\\instagram\"\n",
    "video_filename = \"instagram.mp4\"\n",
    "audio_filename = \"2024-04-20_20-15-46_UTC.wav\"\n",
    "\n",
    "download_instagram_video(instagram_url, download_path)\n",
    "extract_audio(f\"{download_path}/{video_filename}\", f\"{download_path}/{audio_filename}\")\n",
    "text = audio_to_text(f\"{download_path}/{audio_filename}\")\n",
    "print(text)\n",
    "\n"
   ]
  },
  {
   "cell_type": "code",
   "execution_count": null,
   "metadata": {},
   "outputs": [],
   "source": []
  }
 ],
 "metadata": {
  "kernelspec": {
   "display_name": "Python 3",
   "language": "python",
   "name": "python3"
  },
  "language_info": {
   "codemirror_mode": {
    "name": "ipython",
    "version": 3
   },
   "file_extension": ".py",
   "mimetype": "text/x-python",
   "name": "python",
   "nbconvert_exporter": "python",
   "pygments_lexer": "ipython3",
   "version": "3.7.4"
  }
 },
 "nbformat": 4,
 "nbformat_minor": 2
}
